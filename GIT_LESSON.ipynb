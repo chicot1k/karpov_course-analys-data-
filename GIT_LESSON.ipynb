{
  "nbformat": 4,
  "nbformat_minor": 0,
  "metadata": {
    "colab": {
      "provenance": [],
      "authorship_tag": "ABX9TyOYZd5NgfEWtOrZoae3FdSu"
    },
    "kernelspec": {
      "name": "python3",
      "display_name": "Python 3"
    },
    "language_info": {
      "name": "python"
    }
  },
  "cells": [
    {
      "cell_type": "markdown",
      "source": [
        "ls - все фаилы в директории и можно дальше писать путь и он выдаст фаилы в этом фаиле, можно и указать полный путь, а не просто название папки\n",
        "\n",
        "\n",
        "pwd - текущая директория\n",
        "\n",
        "cd - сменить директорию/ сбросить на начало\n",
        "\n",
        "~ полный путь\n",
        "\n",
        "ssh - ключ для клона репозитория\n",
        "\n",
        "git clone [link] - копирует репозиторий\n",
        "\n",
        "git status - показывает ветки и затреканные фаилы\n",
        "\n",
        "git commit -m\"messege\" - коммит\n",
        "\n",
        "git diff - разница\n",
        "\n",
        "git push - закинуть на гитхаб/лаб\n",
        "\n",
        "pull - обновить\n",
        "\n",
        "branch [name] - создать ветку\n",
        "\n",
        "checkout [name] - переход ветки\n",
        "\n"
      ],
      "metadata": {
        "id": "Y_L41B4GBjGj"
      }
    }
  ]
}