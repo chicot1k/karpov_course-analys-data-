{
  "nbformat": 4,
  "nbformat_minor": 0,
  "metadata": {
    "colab": {
      "provenance": [],
      "authorship_tag": "ABX9TyPn1OCB9IIZ9r0dZhGwC4rt",
      "include_colab_link": true
    },
    "kernelspec": {
      "name": "python3",
      "display_name": "Python 3"
    },
    "language_info": {
      "name": "python"
    }
  },
  "cells": [
    {
      "cell_type": "markdown",
      "metadata": {
        "id": "view-in-github",
        "colab_type": "text"
      },
      "source": [
        "<a href=\"https://colab.research.google.com/github/chicot1k/karpov_course-analys-data-/blob/main/GIT_LESSON.ipynb\" target=\"_parent\"><img src=\"https://colab.research.google.com/assets/colab-badge.svg\" alt=\"Open In Colab\"/></a>"
      ]
    },
    {
      "cell_type": "markdown",
      "source": [
        "ls - все фаилы в директории и можно дальше писать путь и он выдаст фаилы в этом фаиле, можно и указать полный путь, а не просто название папки\n",
        "\n",
        "\n",
        "pwd - текущая директория\n",
        "\n",
        "cd - сменить директорию/ сбросить на начало\n",
        "\n",
        "~ полный путь\n",
        "\n",
        "ssh - ключ для клона репозитория\n",
        "\n",
        "git clone [link] - копирует репозиторий\n",
        "\n",
        "git status -"
      ],
      "metadata": {
        "id": "Y_L41B4GBjGj"
      }
    }
  ]
}