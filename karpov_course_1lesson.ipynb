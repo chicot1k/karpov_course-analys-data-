{
  "nbformat": 4,
  "nbformat_minor": 0,
  "metadata": {
    "colab": {
      "provenance": []
    },
    "kernelspec": {
      "name": "python3",
      "display_name": "Python 3"
    },
    "language_info": {
      "name": "python"
    }
  },
  "cells": [
    {
      "cell_type": "code",
      "execution_count": null,
      "metadata": {
        "id": "CaJvna0fFS9j"
      },
      "outputs": [],
      "source": [
        "age = 2 \n",
        "name = 'Alex'"
      ]
    },
    {
      "cell_type": "code",
      "source": [
        "user_info = ['Alex', 'Yann', 60000, 3]"
      ],
      "metadata": {
        "id": "85o68l_m2MUT"
      },
      "execution_count": null,
      "outputs": []
    },
    {
      "cell_type": "code",
      "source": [
        "salaries = [1,2,3,4]\n",
        "first = salaries[0]\n",
        "print(first)"
      ],
      "metadata": {
        "colab": {
          "base_uri": "https://localhost:8080/"
        },
        "id": "480X-IIo3SCy",
        "outputId": "456d689a-b222-48a6-b096-eb7a42035eb3"
      },
      "execution_count": null,
      "outputs": [
        {
          "output_type": "stream",
          "name": "stdout",
          "text": [
            "1\n"
          ]
        }
      ]
    },
    {
      "cell_type": "code",
      "source": [
        "users = []\n",
        "users.append('Voronov')\n",
        "users.append(42)\n",
        "print(users)"
      ],
      "metadata": {
        "colab": {
          "base_uri": "https://localhost:8080/"
        },
        "id": "JZROdyUb3eBQ",
        "outputId": "48cfdbe7-9421-4268-a048-4637f5911225"
      },
      "execution_count": null,
      "outputs": [
        {
          "output_type": "stream",
          "name": "stdout",
          "text": [
            "['Voronov', 42]\n"
          ]
        }
      ]
    },
    {
      "cell_type": "code",
      "source": [
        "user_ages = [10, 18, 21, 35, 42, 27, 12, 16]\n",
        "for i in user_ages:\n",
        "  if i>=18:\n",
        "    print (i)"
      ],
      "metadata": {
        "colab": {
          "base_uri": "https://localhost:8080/"
        },
        "id": "GE1a_olU4FaE",
        "outputId": "f4228ec8-ba4f-49c4-96c6-f8862fff00e1"
      },
      "execution_count": null,
      "outputs": [
        {
          "output_type": "stream",
          "name": "stdout",
          "text": [
            "18\n",
            "21\n",
            "35\n",
            "42\n",
            "27\n"
          ]
        }
      ]
    },
    {
      "cell_type": "code",
      "source": [
        "if user_info[-1]<2:\n",
        "  status = 'Junior'\n",
        "elif user_info[-1]>=2 and user_info[-1]<5:\n",
        "  status = 'Middle'\n",
        "else:\n",
        "    status = 'Senior'\n",
        "print(status)"
      ],
      "metadata": {
        "colab": {
          "base_uri": "https://localhost:8080/"
        },
        "id": "-hd4Pego5yOX",
        "outputId": "5c519c3b-cf4a-4b7f-aad9-568fc8ce9f8a"
      },
      "execution_count": null,
      "outputs": [
        {
          "output_type": "stream",
          "name": "stdout",
          "text": [
            "Middle\n"
          ]
        }
      ]
    },
    {
      "cell_type": "code",
      "source": [
        "values = [12, 134, 10, 47, 100, 20, 50, 160, 210]\n",
        "for i in values:\n",
        "  if i%10==0:\n",
        "    print(i)"
      ],
      "metadata": {
        "colab": {
          "base_uri": "https://localhost:8080/"
        },
        "id": "Tcjl3UY265CC",
        "outputId": "e6c4a24d-894b-4872-9d4d-8555362ce80f"
      },
      "execution_count": null,
      "outputs": [
        {
          "output_type": "stream",
          "name": "stdout",
          "text": [
            "10\n",
            "100\n",
            "20\n",
            "50\n",
            "160\n",
            "210\n"
          ]
        }
      ]
    },
    {
      "cell_type": "code",
      "source": [
        "workers = [['Ivan', 'Ivanov', 100000, 2], ['Petr', 'Petrov', 150000, 2], ['Sidor', 'Sidorov', 200000, 3]]\n",
        "for i in workers:\n",
        "  if i[-1]<2:\n",
        "    status = 'Junior'\n",
        "  elif i[-1]>=2 and i[-1]<5:\n",
        "    status = 'Middle'\n",
        "  else:\n",
        "    status = 'Senior'\n",
        "  print(i[0],i[1],status)"
      ],
      "metadata": {
        "colab": {
          "base_uri": "https://localhost:8080/"
        },
        "id": "OkakCX4c7KtG",
        "outputId": "e468dce3-1afc-4ac0-ead3-ef92635b68b8"
      },
      "execution_count": null,
      "outputs": [
        {
          "output_type": "stream",
          "name": "stdout",
          "text": [
            "Ivan Ivanov Middle\n",
            "Petr Petrov Middle\n",
            "Sidor Sidorov Middle\n"
          ]
        }
      ]
    }
  ]
}